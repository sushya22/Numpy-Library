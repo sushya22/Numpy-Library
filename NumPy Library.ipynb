{
 "cells": [
  {
   "cell_type": "markdown",
   "id": "de528b10",
   "metadata": {},
   "source": [
    "# numpy practice"
   ]
  },
  {
   "cell_type": "code",
   "execution_count": 4,
   "id": "59b1d58f",
   "metadata": {},
   "outputs": [],
   "source": [
    "import numpy as np\n",
    "#creating ndaaray using the list and tuple \n",
    "a=np.array([1,2,3,4,5,6,7])"
   ]
  },
  {
   "cell_type": "code",
   "execution_count": 5,
   "id": "93e71a67",
   "metadata": {},
   "outputs": [
    {
     "data": {
      "text/plain": [
       "array([1, 2, 3, 4, 5, 6, 7])"
      ]
     },
     "execution_count": 5,
     "metadata": {},
     "output_type": "execute_result"
    }
   ],
   "source": [
    "a"
   ]
  },
  {
   "cell_type": "code",
   "execution_count": 6,
   "id": "bf42e214",
   "metadata": {},
   "outputs": [],
   "source": [
    "b=np.array([[1,2,3],[4,5,6]])"
   ]
  },
  {
   "cell_type": "code",
   "execution_count": 7,
   "id": "298724e8",
   "metadata": {},
   "outputs": [
    {
     "data": {
      "text/plain": [
       "(2, 3)"
      ]
     },
     "execution_count": 7,
     "metadata": {},
     "output_type": "execute_result"
    }
   ],
   "source": [
    "b.shape"
   ]
  },
  {
   "cell_type": "code",
   "execution_count": 8,
   "id": "006edee5",
   "metadata": {},
   "outputs": [
    {
     "data": {
      "text/plain": [
       "6"
      ]
     },
     "execution_count": 8,
     "metadata": {},
     "output_type": "execute_result"
    }
   ],
   "source": [
    "b.size"
   ]
  },
  {
   "cell_type": "code",
   "execution_count": 9,
   "id": "8f9d17e9",
   "metadata": {},
   "outputs": [
    {
     "data": {
      "text/plain": [
       "4"
      ]
     },
     "execution_count": 9,
     "metadata": {},
     "output_type": "execute_result"
    }
   ],
   "source": [
    "b.itemsize"
   ]
  },
  {
   "cell_type": "code",
   "execution_count": 10,
   "id": "e4bea088",
   "metadata": {},
   "outputs": [
    {
     "data": {
      "text/plain": [
       "2"
      ]
     },
     "execution_count": 10,
     "metadata": {},
     "output_type": "execute_result"
    }
   ],
   "source": [
    "b.ndim"
   ]
  },
  {
   "cell_type": "code",
   "execution_count": 11,
   "id": "1b778a98",
   "metadata": {},
   "outputs": [
    {
     "data": {
      "text/plain": [
       "dtype('int32')"
      ]
     },
     "execution_count": 11,
     "metadata": {},
     "output_type": "execute_result"
    }
   ],
   "source": [
    "b.dtype\n"
   ]
  },
  {
   "cell_type": "code",
   "execution_count": 12,
   "id": "ebea689d",
   "metadata": {},
   "outputs": [],
   "source": [
    "b=a.astype('int8')"
   ]
  },
  {
   "cell_type": "code",
   "execution_count": 13,
   "id": "cd7db4d4",
   "metadata": {},
   "outputs": [
    {
     "data": {
      "text/plain": [
       "dtype('int8')"
      ]
     },
     "execution_count": 13,
     "metadata": {},
     "output_type": "execute_result"
    }
   ],
   "source": [
    "b.dtype"
   ]
  },
  {
   "cell_type": "code",
   "execution_count": 14,
   "id": "a1c16803",
   "metadata": {},
   "outputs": [],
   "source": [
    "a=np.arange(10,101,10,dtype='int8')"
   ]
  },
  {
   "cell_type": "code",
   "execution_count": 15,
   "id": "27a7d608",
   "metadata": {},
   "outputs": [
    {
     "data": {
      "text/plain": [
       "array([ 10,  20,  30,  40,  50,  60,  70,  80,  90, 100], dtype=int8)"
      ]
     },
     "execution_count": 15,
     "metadata": {},
     "output_type": "execute_result"
    }
   ],
   "source": [
    "a"
   ]
  },
  {
   "cell_type": "code",
   "execution_count": 19,
   "id": "afe7083f",
   "metadata": {},
   "outputs": [],
   "source": [
    "a=np.linspace(10,90,9)"
   ]
  },
  {
   "cell_type": "code",
   "execution_count": 20,
   "id": "5aa55a13",
   "metadata": {},
   "outputs": [
    {
     "data": {
      "text/plain": [
       "array([10., 20., 30., 40., 50., 60., 70., 80., 90.])"
      ]
     },
     "execution_count": 20,
     "metadata": {},
     "output_type": "execute_result"
    }
   ],
   "source": [
    "a"
   ]
  },
  {
   "cell_type": "code",
   "execution_count": 21,
   "id": "65509e45",
   "metadata": {},
   "outputs": [],
   "source": [
    "a=np.zeros((3,3),dtype='int8')"
   ]
  },
  {
   "cell_type": "code",
   "execution_count": 22,
   "id": "07255202",
   "metadata": {},
   "outputs": [
    {
     "data": {
      "text/plain": [
       "array([[0, 0, 0],\n",
       "       [0, 0, 0],\n",
       "       [0, 0, 0]], dtype=int8)"
      ]
     },
     "execution_count": 22,
     "metadata": {},
     "output_type": "execute_result"
    }
   ],
   "source": [
    "a"
   ]
  },
  {
   "cell_type": "code",
   "execution_count": 23,
   "id": "be2fadfd",
   "metadata": {},
   "outputs": [
    {
     "data": {
      "text/plain": [
       "9"
      ]
     },
     "execution_count": 23,
     "metadata": {},
     "output_type": "execute_result"
    }
   ],
   "source": [
    "a.size"
   ]
  },
  {
   "cell_type": "code",
   "execution_count": 24,
   "id": "f8f35f4f",
   "metadata": {},
   "outputs": [],
   "source": [
    "a=np.ones((3,3),dtype=\"int8\")"
   ]
  },
  {
   "cell_type": "code",
   "execution_count": 25,
   "id": "a6b17c2b",
   "metadata": {},
   "outputs": [
    {
     "data": {
      "text/plain": [
       "array([[1, 1, 1],\n",
       "       [1, 1, 1],\n",
       "       [1, 1, 1]], dtype=int8)"
      ]
     },
     "execution_count": 25,
     "metadata": {},
     "output_type": "execute_result"
    }
   ],
   "source": [
    "a\n"
   ]
  },
  {
   "cell_type": "code",
   "execution_count": 26,
   "id": "ac790f92",
   "metadata": {},
   "outputs": [],
   "source": [
    "a=np.full((3,3),18)"
   ]
  },
  {
   "cell_type": "code",
   "execution_count": 27,
   "id": "67362e1e",
   "metadata": {},
   "outputs": [
    {
     "data": {
      "text/plain": [
       "array([[18, 18, 18],\n",
       "       [18, 18, 18],\n",
       "       [18, 18, 18]])"
      ]
     },
     "execution_count": 27,
     "metadata": {},
     "output_type": "execute_result"
    }
   ],
   "source": [
    "a"
   ]
  },
  {
   "cell_type": "code",
   "execution_count": 30,
   "id": "ca70505f",
   "metadata": {},
   "outputs": [],
   "source": [
    "a=np.eye(3,dtype='int8')"
   ]
  },
  {
   "cell_type": "code",
   "execution_count": 31,
   "id": "d35025bc",
   "metadata": {},
   "outputs": [
    {
     "data": {
      "text/plain": [
       "array([[1, 0, 0],\n",
       "       [0, 1, 0],\n",
       "       [0, 0, 1]], dtype=int8)"
      ]
     },
     "execution_count": 31,
     "metadata": {},
     "output_type": "execute_result"
    }
   ],
   "source": [
    "a"
   ]
  },
  {
   "cell_type": "code",
   "execution_count": 39,
   "id": "3a64c7d6",
   "metadata": {},
   "outputs": [],
   "source": [
    "a=np.eye(2,5,k=1,dtype='int8')"
   ]
  },
  {
   "cell_type": "code",
   "execution_count": 33,
   "id": "084b0f6b",
   "metadata": {},
   "outputs": [
    {
     "data": {
      "text/plain": [
       "array([[0, 1, 0, 0, 0],\n",
       "       [0, 0, 1, 0, 0]], dtype=int8)"
      ]
     },
     "execution_count": 33,
     "metadata": {},
     "output_type": "execute_result"
    }
   ],
   "source": [
    "a"
   ]
  },
  {
   "cell_type": "code",
   "execution_count": 36,
   "id": "7833fed4",
   "metadata": {},
   "outputs": [],
   "source": [
    "a=np.identity(2,dtype='int8')"
   ]
  },
  {
   "cell_type": "code",
   "execution_count": 37,
   "id": "44338258",
   "metadata": {},
   "outputs": [
    {
     "data": {
      "text/plain": [
       "array([[1, 0],\n",
       "       [0, 1]], dtype=int8)"
      ]
     },
     "execution_count": 37,
     "metadata": {},
     "output_type": "execute_result"
    }
   ],
   "source": [
    "a\n"
   ]
  },
  {
   "cell_type": "code",
   "execution_count": 41,
   "id": "bb5d4c85",
   "metadata": {},
   "outputs": [
    {
     "data": {
      "text/plain": [
       "array([1, 1], dtype=int8)"
      ]
     },
     "execution_count": 41,
     "metadata": {},
     "output_type": "execute_result"
    }
   ],
   "source": [
    "np.diag(a,k=1)"
   ]
  },
  {
   "cell_type": "markdown",
   "id": "4f327f8d",
   "metadata": {},
   "source": [
    "# Use of random module to generate the ndarrays using the random numbers."
   ]
  },
  {
   "cell_type": "markdown",
   "id": "17f3311c",
   "metadata": {},
   "source": [
    "important functions to create the nd array with random numbers..\n",
    "1. randint\n",
    "2. rand\n",
    "3. uniform\n",
    "4. randn\n",
    "5. normal\n"
   ]
  },
  {
   "cell_type": "code",
   "execution_count": 55,
   "id": "a0843584",
   "metadata": {},
   "outputs": [
    {
     "data": {
      "text/plain": [
       "array([[3, 3, 9],\n",
       "       [6, 9, 9]])"
      ]
     },
     "execution_count": 55,
     "metadata": {},
     "output_type": "execute_result"
    }
   ],
   "source": [
    "np.random.randint(2,10,size=(2,3))"
   ]
  },
  {
   "cell_type": "code",
   "execution_count": 60,
   "id": "e897d501",
   "metadata": {},
   "outputs": [
    {
     "data": {
      "text/plain": [
       "array([[0.94747318, 0.75005994, 0.75662482],\n",
       "       [0.16679202, 0.59226893, 0.63156525],\n",
       "       [0.95034467, 0.1971625 , 0.66654452]])"
      ]
     },
     "execution_count": 60,
     "metadata": {},
     "output_type": "execute_result"
    }
   ],
   "source": [
    "np.random.rand(3,3)"
   ]
  },
  {
   "cell_type": "code",
   "execution_count": 63,
   "id": "e8d861df",
   "metadata": {},
   "outputs": [
    {
     "data": {
      "text/plain": [
       "array([[23.62391279, 80.5943688 , 94.51616179],\n",
       "       [64.48360546, 98.53707079, 99.42528514]])"
      ]
     },
     "execution_count": 63,
     "metadata": {},
     "output_type": "execute_result"
    }
   ],
   "source": [
    "np.random.uniform(10,100,size=(2,3))"
   ]
  },
  {
   "cell_type": "code",
   "execution_count": 64,
   "id": "d698e61d",
   "metadata": {},
   "outputs": [
    {
     "data": {
      "text/plain": [
       "array([[4.58089671, 7.24206192],\n",
       "       [6.01544143, 4.5476837 ]])"
      ]
     },
     "execution_count": 64,
     "metadata": {},
     "output_type": "execute_result"
    }
   ],
   "source": [
    "np.random.uniform(10,size=(2,2))"
   ]
  },
  {
   "cell_type": "code",
   "execution_count": 65,
   "id": "fcff6adb",
   "metadata": {},
   "outputs": [
    {
     "data": {
      "text/plain": [
       "array([[-0.75914053, -0.0256055 , -0.07144606],\n",
       "       [-1.79617956,  0.78156497, -0.4503347 ]])"
      ]
     },
     "execution_count": 65,
     "metadata": {},
     "output_type": "execute_result"
    }
   ],
   "source": [
    "np.random.randn(2,3)"
   ]
  },
  {
   "cell_type": "code",
   "execution_count": 66,
   "id": "43a2ed25",
   "metadata": {},
   "outputs": [
    {
     "data": {
      "text/plain": [
       "array([[ 8.37755398,  9.22973409, 10.45338779],\n",
       "       [10.83099837,  9.45405805, 10.1184377 ],\n",
       "       [10.58638051, 11.00024721,  9.38560739]])"
      ]
     },
     "execution_count": 66,
     "metadata": {},
     "output_type": "execute_result"
    }
   ],
   "source": [
    "np.random.normal(10,1,size=(3,3))"
   ]
  },
  {
   "cell_type": "code",
   "execution_count": 69,
   "id": "d4314325",
   "metadata": {},
   "outputs": [
    {
     "data": {
      "text/plain": [
       "<AxesSubplot:ylabel='Count'>"
      ]
     },
     "execution_count": 69,
     "metadata": {},
     "output_type": "execute_result"
    },
    {
     "data": {
      "image/png": "[encoded data removed]",
      "text/plain": [
       "<Figure size 640x480 with 1 Axes>"
      ]
     },
     "metadata": {},
     "output_type": "display_data"
    }
   ],
   "source": [
    "import seaborn as sns\n",
    "sns.histplot(np.random.normal(10,1,size=(30,30)),kde=True)"
   ]
  },
  {
   "cell_type": "markdown",
   "id": "f488d920",
   "metadata": {},
   "source": [
    "# Accesing the ndarrays values...."
   ]
  },
  {
   "cell_type": "markdown",
   "id": "57f8717b",
   "metadata": {},
   "source": [
    "There are multiple ways are present to access the data from anarrays.\n",
    "1. index based.\n",
    "2. slicing based.\n",
    "3. advanced indexing.\n",
    "4. conditional selection.\n"
   ]
  },
  {
   "cell_type": "code",
   "execution_count": 70,
   "id": "87351c5c",
   "metadata": {},
   "outputs": [],
   "source": [
    "a=np.array([1,2,3,4,5,12,34,5,6,7])\n"
   ]
  },
  {
   "cell_type": "code",
   "execution_count": 71,
   "id": "6169a737",
   "metadata": {},
   "outputs": [
    {
     "data": {
      "text/plain": [
       "34"
      ]
     },
     "execution_count": 71,
     "metadata": {},
     "output_type": "execute_result"
    }
   ],
   "source": [
    "a[6]"
   ]
  },
  {
   "cell_type": "code",
   "execution_count": 72,
   "id": "db330330",
   "metadata": {},
   "outputs": [
    {
     "data": {
      "text/plain": [
       "array([3, 5])"
      ]
     },
     "execution_count": 72,
     "metadata": {},
     "output_type": "execute_result"
    }
   ],
   "source": [
    "a[2:5:2]"
   ]
  },
  {
   "cell_type": "code",
   "execution_count": 73,
   "id": "6c493d60",
   "metadata": {},
   "outputs": [
    {
     "data": {
      "text/plain": [
       "array([6])"
      ]
     },
     "execution_count": 73,
     "metadata": {},
     "output_type": "execute_result"
    }
   ],
   "source": [
    "a[[8]]"
   ]
  },
  {
   "cell_type": "code",
   "execution_count": 82,
   "id": "c2e3d86c",
   "metadata": {},
   "outputs": [],
   "source": [
    "b=a[a<=12]"
   ]
  },
  {
   "cell_type": "code",
   "execution_count": 83,
   "id": "3549197d",
   "metadata": {},
   "outputs": [],
   "source": [
    "b.sort()"
   ]
  },
  {
   "cell_type": "code",
   "execution_count": 84,
   "id": "6c0f5020",
   "metadata": {},
   "outputs": [
    {
     "data": {
      "text/plain": [
       "array([ 1,  2,  3,  4,  5,  5,  6,  7, 12])"
      ]
     },
     "execution_count": 84,
     "metadata": {},
     "output_type": "execute_result"
    }
   ],
   "source": [
    "b"
   ]
  },
  {
   "cell_type": "code",
   "execution_count": 86,
   "id": "3b31ca89",
   "metadata": {},
   "outputs": [],
   "source": [
    "a=np.random.normal(3,1,size=(3,3))"
   ]
  },
  {
   "cell_type": "code",
   "execution_count": 87,
   "id": "846849b9",
   "metadata": {},
   "outputs": [
    {
     "data": {
      "text/plain": [
       "array([[2.19115364, 3.09753601, 3.85308464],\n",
       "       [2.11893939, 2.98115804, 2.3472936 ],\n",
       "       [1.88105213, 4.519731  , 3.84675334]])"
      ]
     },
     "execution_count": 87,
     "metadata": {},
     "output_type": "execute_result"
    }
   ],
   "source": [
    "a\n"
   ]
  },
  {
   "cell_type": "code",
   "execution_count": 88,
   "id": "0f2f5cfa",
   "metadata": {},
   "outputs": [
    {
     "data": {
      "text/plain": [
       "3.0975360082238836"
      ]
     },
     "execution_count": 88,
     "metadata": {},
     "output_type": "execute_result"
    }
   ],
   "source": [
    "a[0,1]"
   ]
  },
  {
   "cell_type": "code",
   "execution_count": 91,
   "id": "cc3162c4",
   "metadata": {},
   "outputs": [
    {
     "data": {
      "text/plain": [
       "array([[3.09753601],\n",
       "       [2.98115804]])"
      ]
     },
     "execution_count": 91,
     "metadata": {},
     "output_type": "execute_result"
    }
   ],
   "source": [
    "a[0:2,1:2]"
   ]
  },
  {
   "cell_type": "code",
   "execution_count": 92,
   "id": "086d9c33",
   "metadata": {},
   "outputs": [
    {
     "data": {
      "text/plain": [
       "array([2.98115804, 3.84675334])"
      ]
     },
     "execution_count": 92,
     "metadata": {},
     "output_type": "execute_result"
    }
   ],
   "source": [
    "a[[1,2],[1,2]]"
   ]
  },
  {
   "cell_type": "code",
   "execution_count": 99,
   "id": "cda1fe89",
   "metadata": {},
   "outputs": [
    {
     "data": {
      "text/plain": [
       "array([2.19115364, 2.11893939, 2.98115804, 2.3472936 , 1.88105213])"
      ]
     },
     "execution_count": 99,
     "metadata": {},
     "output_type": "execute_result"
    }
   ],
   "source": [
    "a[a<3]"
   ]
  },
  {
   "cell_type": "code",
   "execution_count": 100,
   "id": "bb75b722",
   "metadata": {},
   "outputs": [],
   "source": [
    "a=np.random.uniform(1,10,size=(3,3))"
   ]
  },
  {
   "cell_type": "code",
   "execution_count": 101,
   "id": "e97f2520",
   "metadata": {},
   "outputs": [
    {
     "data": {
      "text/plain": [
       "array([[2.37753504, 9.41919567, 3.21888954],\n",
       "       [5.44581051, 1.49925121, 2.35583885],\n",
       "       [2.62109194, 3.98183276, 8.84772529]])"
      ]
     },
     "execution_count": 101,
     "metadata": {},
     "output_type": "execute_result"
    }
   ],
   "source": [
    "a"
   ]
  },
  {
   "cell_type": "code",
   "execution_count": 109,
   "id": "58a91f31",
   "metadata": {},
   "outputs": [
    {
     "data": {
      "text/plain": [
       "array([[2.37753504, 9.41919567, 3.21888954, 5.44581051, 1.49925121,\n",
       "        2.35583885, 2.62109194, 3.98183276, 8.84772529]])"
      ]
     },
     "execution_count": 109,
     "metadata": {},
     "output_type": "execute_result"
    }
   ],
   "source": [
    "np.reshape(a,(-1,9))"
   ]
  },
  {
   "cell_type": "code",
   "execution_count": 113,
   "id": "938daf68",
   "metadata": {},
   "outputs": [
    {
     "data": {
      "text/plain": [
       "array([[2.37753504, 9.41919567, 3.21888954],\n",
       "       [5.44581051, 1.49925121, 2.35583885],\n",
       "       [2.62109194, 3.98183276, 8.84772529]])"
      ]
     },
     "execution_count": 113,
     "metadata": {},
     "output_type": "execute_result"
    }
   ],
   "source": [
    "a.reshape((3,3))"
   ]
  },
  {
   "cell_type": "code",
   "execution_count": 114,
   "id": "3ff28ce7",
   "metadata": {},
   "outputs": [
    {
     "data": {
      "text/plain": [
       "array([[2.37753504, 9.41919567, 3.21888954, 5.44581051, 1.49925121],\n",
       "       [2.35583885, 2.62109194, 3.98183276, 8.84772529, 2.37753504],\n",
       "       [9.41919567, 3.21888954, 5.44581051, 1.49925121, 2.35583885],\n",
       "       [2.62109194, 3.98183276, 8.84772529, 2.37753504, 9.41919567],\n",
       "       [3.21888954, 5.44581051, 1.49925121, 2.35583885, 2.62109194]])"
      ]
     },
     "execution_count": 114,
     "metadata": {},
     "output_type": "execute_result"
    }
   ],
   "source": [
    "np.resize(a,(5,5))"
   ]
  },
  {
   "cell_type": "code",
   "execution_count": 121,
   "id": "2fcdc400",
   "metadata": {},
   "outputs": [],
   "source": [
    "b=np.random.uniform(10,3,size=(3,3))"
   ]
  },
  {
   "cell_type": "code",
   "execution_count": 125,
   "id": "491f7814",
   "metadata": {},
   "outputs": [],
   "source": [
    "b.resize((5,5))"
   ]
  },
  {
   "cell_type": "code",
   "execution_count": 126,
   "id": "342ce5a6",
   "metadata": {},
   "outputs": [
    {
     "data": {
      "text/plain": [
       "array([[9.19600846, 7.46282737, 9.17854114, 8.21875463, 5.46936287],\n",
       "       [8.80113759, 7.60590301, 5.65401984, 4.14402929, 0.        ],\n",
       "       [0.        , 0.        , 0.        , 0.        , 0.        ],\n",
       "       [0.        , 0.        , 0.        , 0.        , 0.        ],\n",
       "       [0.        , 0.        , 0.        , 0.        , 0.        ]])"
      ]
     },
     "execution_count": 126,
     "metadata": {},
     "output_type": "execute_result"
    }
   ],
   "source": [
    "b"
   ]
  },
  {
   "cell_type": "code",
   "execution_count": 133,
   "id": "b874746b",
   "metadata": {},
   "outputs": [
    {
     "data": {
      "text/plain": [
       "array([9.19600846, 7.46282737, 9.17854114, 8.21875463, 5.46936287,\n",
       "       8.80113759, 7.60590301, 5.65401984, 4.14402929, 0.        ,\n",
       "       0.        , 0.        , 0.        , 0.        , 0.        ,\n",
       "       0.        , 0.        , 0.        , 0.        , 0.        ,\n",
       "       0.        , 0.        , 0.        , 0.        , 0.        ])"
      ]
     },
     "execution_count": 133,
     "metadata": {},
     "output_type": "execute_result"
    }
   ],
   "source": [
    "b.flatten()"
   ]
  },
  {
   "cell_type": "code",
   "execution_count": 135,
   "id": "1a54f935",
   "metadata": {},
   "outputs": [],
   "source": [
    "c=np.ravel(b)"
   ]
  },
  {
   "cell_type": "code",
   "execution_count": 136,
   "id": "9b0fa625",
   "metadata": {},
   "outputs": [],
   "source": [
    "c[0]=999"
   ]
  },
  {
   "cell_type": "code",
   "execution_count": 137,
   "id": "392efd33",
   "metadata": {},
   "outputs": [
    {
     "data": {
      "text/plain": [
       "array([[999.        ,   7.46282737,   9.17854114,   8.21875463,\n",
       "          5.46936287],\n",
       "       [  8.80113759,   7.60590301,   5.65401984,   4.14402929,\n",
       "          0.        ],\n",
       "       [  0.        ,   0.        ,   0.        ,   0.        ,\n",
       "          0.        ],\n",
       "       [  0.        ,   0.        ,   0.        ,   0.        ,\n",
       "          0.        ],\n",
       "       [  0.        ,   0.        ,   0.        ,   0.        ,\n",
       "          0.        ]])"
      ]
     },
     "execution_count": 137,
     "metadata": {},
     "output_type": "execute_result"
    }
   ],
   "source": [
    "b"
   ]
  },
  {
   "cell_type": "code",
   "execution_count": 138,
   "id": "170b57db",
   "metadata": {},
   "outputs": [
    {
     "data": {
      "text/plain": [
       "array([999.        ,   7.46282737,   9.17854114,   8.21875463,\n",
       "         5.46936287,   8.80113759,   7.60590301,   5.65401984,\n",
       "         4.14402929,   0.        ,   0.        ,   0.        ,\n",
       "         0.        ,   0.        ,   0.        ,   0.        ,\n",
       "         0.        ,   0.        ,   0.        ,   0.        ,\n",
       "         0.        ,   0.        ,   0.        ,   0.        ,\n",
       "         0.        ])"
      ]
     },
     "execution_count": 138,
     "metadata": {},
     "output_type": "execute_result"
    }
   ],
   "source": [
    "c"
   ]
  },
  {
   "cell_type": "code",
   "execution_count": 139,
   "id": "736a4d7b",
   "metadata": {},
   "outputs": [],
   "source": [
    "a=np.random.uniform(20,2,(3,3))"
   ]
  },
  {
   "cell_type": "code",
   "execution_count": 140,
   "id": "a93705b4",
   "metadata": {},
   "outputs": [
    {
     "data": {
      "text/plain": [
       "array([[10.33227262, 15.12624504, 14.45984312],\n",
       "       [17.94264644, 12.9756248 , 16.25007782],\n",
       "       [15.90363614,  3.70697466, 16.46968935]])"
      ]
     },
     "execution_count": 140,
     "metadata": {},
     "output_type": "execute_result"
    }
   ],
   "source": [
    "a"
   ]
  },
  {
   "cell_type": "code",
   "execution_count": 141,
   "id": "e723ce3c",
   "metadata": {},
   "outputs": [
    {
     "data": {
      "text/plain": [
       "array([[10.33227262, 17.94264644, 15.90363614],\n",
       "       [15.12624504, 12.9756248 ,  3.70697466],\n",
       "       [14.45984312, 16.25007782, 16.46968935]])"
      ]
     },
     "execution_count": 141,
     "metadata": {},
     "output_type": "execute_result"
    }
   ],
   "source": [
    "a.transpose()"
   ]
  },
  {
   "cell_type": "code",
   "execution_count": 143,
   "id": "e04da7bc",
   "metadata": {},
   "outputs": [],
   "source": [
    "b=np.transpose(a)"
   ]
  },
  {
   "cell_type": "code",
   "execution_count": 144,
   "id": "cc7c7921",
   "metadata": {},
   "outputs": [
    {
     "data": {
      "text/plain": [
       "array([[10.33227262, 15.12624504, 14.45984312],\n",
       "       [17.94264644, 12.9756248 , 16.25007782],\n",
       "       [15.90363614,  3.70697466, 16.46968935]])"
      ]
     },
     "execution_count": 144,
     "metadata": {},
     "output_type": "execute_result"
    }
   ],
   "source": [
    "b.transpose()"
   ]
  },
  {
   "cell_type": "markdown",
   "id": "9abc00f8",
   "metadata": {},
   "source": [
    "# Arithmetic operations on ndarray."
   ]
  },
  {
   "cell_type": "markdown",
   "id": "9c53ae62",
   "metadata": {},
   "source": [
    "1. addition\n",
    "2. substraction\n",
    "3. multiplication\n",
    "4. division\n",
    "5. modulus\n",
    "6. power\n"
   ]
  },
  {
   "cell_type": "code",
   "execution_count": 159,
   "id": "f36861c8",
   "metadata": {},
   "outputs": [],
   "source": [
    "a=np.array([1,2,3,4,5,6,7])\n",
    "b=np.array([7,6,5,4,3,2,1])"
   ]
  },
  {
   "cell_type": "code",
   "execution_count": 160,
   "id": "af091c9f",
   "metadata": {},
   "outputs": [
    {
     "data": {
      "text/plain": [
       "array([8, 8, 8, 8, 8, 8, 8])"
      ]
     },
     "execution_count": 160,
     "metadata": {},
     "output_type": "execute_result"
    }
   ],
   "source": [
    "a+b"
   ]
  },
  {
   "cell_type": "code",
   "execution_count": 161,
   "id": "a640b12a",
   "metadata": {},
   "outputs": [
    {
     "data": {
      "text/plain": [
       "array([8, 8, 8, 8, 8, 8, 8])"
      ]
     },
     "execution_count": 161,
     "metadata": {},
     "output_type": "execute_result"
    }
   ],
   "source": [
    "np.add(a,b)"
   ]
  },
  {
   "cell_type": "code",
   "execution_count": 162,
   "id": "311a52ea",
   "metadata": {},
   "outputs": [
    {
     "data": {
      "text/plain": [
       "array([-6, -4, -2,  0,  2,  4,  6])"
      ]
     },
     "execution_count": 162,
     "metadata": {},
     "output_type": "execute_result"
    }
   ],
   "source": [
    "np.subtract(a,b)"
   ]
  },
  {
   "cell_type": "code",
   "execution_count": 163,
   "id": "9ac21073",
   "metadata": {},
   "outputs": [
    {
     "data": {
      "text/plain": [
       "array([ 7, 12, 15, 16, 15, 12,  7])"
      ]
     },
     "execution_count": 163,
     "metadata": {},
     "output_type": "execute_result"
    }
   ],
   "source": [
    "np.multiply(a,b)"
   ]
  },
  {
   "cell_type": "code",
   "execution_count": 164,
   "id": "0f20145e",
   "metadata": {},
   "outputs": [
    {
     "data": {
      "text/plain": [
       "array([0.14285714, 0.33333333, 0.6       , 1.        , 1.66666667,\n",
       "       3.        , 7.        ])"
      ]
     },
     "execution_count": 164,
     "metadata": {},
     "output_type": "execute_result"
    }
   ],
   "source": [
    "np.divide(a,b)"
   ]
  },
  {
   "cell_type": "code",
   "execution_count": 165,
   "id": "2a5f9deb",
   "metadata": {},
   "outputs": [
    {
     "data": {
      "text/plain": [
       "array([1, 2, 3, 0, 2, 0, 0], dtype=int32)"
      ]
     },
     "execution_count": 165,
     "metadata": {},
     "output_type": "execute_result"
    }
   ],
   "source": [
    "np.mod(a,b)"
   ]
  },
  {
   "cell_type": "code",
   "execution_count": 166,
   "id": "6516fb30",
   "metadata": {},
   "outputs": [
    {
     "data": {
      "text/plain": [
       "array([  1,  64, 243, 256, 125,  36,   7], dtype=int32)"
      ]
     },
     "execution_count": 166,
     "metadata": {},
     "output_type": "execute_result"
    }
   ],
   "source": [
    "np.power(a,b)"
   ]
  },
  {
   "cell_type": "markdown",
   "id": "8efe6754",
   "metadata": {},
   "source": [
    "basic rule in numpy is whenever we are doing the arithmetic operation then shape should be same or operands must follow the brodcast rule."
   ]
  },
  {
   "cell_type": "code",
   "execution_count": 167,
   "id": "aca54c05",
   "metadata": {},
   "outputs": [],
   "source": [
    "a=np.random.uniform(10,2,size=(5,5))"
   ]
  },
  {
   "cell_type": "code",
   "execution_count": 168,
   "id": "6d34f218",
   "metadata": {},
   "outputs": [
    {
     "data": {
      "text/plain": [
       "array([[9.99360383, 2.93998635, 3.46078828, 6.97683454, 8.97136085],\n",
       "       [2.07426353, 6.10716112, 7.1849416 , 4.10896593, 5.77162075],\n",
       "       [5.15817545, 7.80298704, 4.82471065, 4.9053254 , 9.31403565],\n",
       "       [9.94105661, 5.44602406, 6.8558639 , 9.4633853 , 4.93248748],\n",
       "       [5.50127217, 3.99999232, 8.91425384, 7.11010343, 5.92750787]])"
      ]
     },
     "execution_count": 168,
     "metadata": {},
     "output_type": "execute_result"
    }
   ],
   "source": [
    "a"
   ]
  },
  {
   "cell_type": "code",
   "execution_count": 169,
   "id": "e6d9cf0e",
   "metadata": {},
   "outputs": [
    {
     "name": "stdout",
     "output_type": "stream",
     "text": [
      "9.993603825900596\n",
      "2.9399863451555506\n",
      "3.46078828268982\n",
      "6.976834544536219\n",
      "8.971360853757862\n",
      "2.0742635328956958\n",
      "6.107161121174642\n",
      "7.184941599179146\n",
      "4.108965927667436\n",
      "5.771620748752722\n",
      "5.158175452413837\n",
      "7.80298703575177\n",
      "4.824710647318115\n",
      "4.905325397175842\n",
      "9.314035653147613\n",
      "9.941056614565348\n",
      "5.446024057786904\n",
      "6.855863897693757\n",
      "9.463385296520215\n",
      "4.932487483585572\n",
      "5.501272170087109\n",
      "3.999992317000247\n",
      "8.914253844056448\n",
      "7.110103427607344\n",
      "5.927507868582771\n"
     ]
    }
   ],
   "source": [
    "for item in np.nditer(a):\n",
    "    print(item)"
   ]
  },
  {
   "cell_type": "code",
   "execution_count": 171,
   "id": "ee0e6d6f",
   "metadata": {},
   "outputs": [
    {
     "name": "stdout",
     "output_type": "stream",
     "text": [
      "<class 'tuple'> 9.993603825900596\n",
      "<class 'tuple'> 2.9399863451555506\n",
      "<class 'tuple'> 3.46078828268982\n",
      "<class 'tuple'> 6.976834544536219\n",
      "<class 'tuple'> 8.971360853757862\n",
      "<class 'tuple'> 2.0742635328956958\n",
      "<class 'tuple'> 6.107161121174642\n",
      "<class 'tuple'> 7.184941599179146\n",
      "<class 'tuple'> 4.108965927667436\n",
      "<class 'tuple'> 5.771620748752722\n",
      "<class 'tuple'> 5.158175452413837\n",
      "<class 'tuple'> 7.80298703575177\n",
      "<class 'tuple'> 4.824710647318115\n",
      "<class 'tuple'> 4.905325397175842\n",
      "<class 'tuple'> 9.314035653147613\n",
      "<class 'tuple'> 9.941056614565348\n",
      "<class 'tuple'> 5.446024057786904\n",
      "<class 'tuple'> 6.855863897693757\n",
      "<class 'tuple'> 9.463385296520215\n",
      "<class 'tuple'> 4.932487483585572\n",
      "<class 'tuple'> 5.501272170087109\n",
      "<class 'tuple'> 3.999992317000247\n",
      "<class 'tuple'> 8.914253844056448\n",
      "<class 'tuple'> 7.110103427607344\n",
      "<class 'tuple'> 5.927507868582771\n"
     ]
    }
   ],
   "source": [
    "for pos,item in np.ndenumerate(a):\n",
    "    print(type(pos),item)"
   ]
  },
  {
   "cell_type": "markdown",
   "id": "ee28b68f",
   "metadata": {},
   "source": [
    "# Joining the multiple ndarrays into single array"
   ]
  },
  {
   "cell_type": "markdown",
   "id": "7d472819",
   "metadata": {},
   "source": [
    "There are lot of functions are available to join the multiple ndarrays.\n",
    "1. concatenate\n",
    "2. stack\n",
    "3. vstack\n",
    "4. hstack\n"
   ]
  },
  {
   "cell_type": "code",
   "execution_count": 172,
   "id": "f3452594",
   "metadata": {},
   "outputs": [],
   "source": [
    "a=np.array([1,2,3,4,5])\n",
    "b=np.array([1,2,3,4,5])"
   ]
  },
  {
   "cell_type": "code",
   "execution_count": 175,
   "id": "a314c1ef",
   "metadata": {},
   "outputs": [
    {
     "data": {
      "text/plain": [
       "array([1, 2, 3, 4, 5, 1, 2, 3, 4, 5])"
      ]
     },
     "execution_count": 175,
     "metadata": {},
     "output_type": "execute_result"
    }
   ],
   "source": [
    "np.concatenate((a,b),axis=0)"
   ]
  },
  {
   "cell_type": "code",
   "execution_count": 176,
   "id": "18a4fa59",
   "metadata": {},
   "outputs": [],
   "source": [
    "a=np.random.uniform(10,2,size=(3,3))"
   ]
  },
  {
   "cell_type": "code",
   "execution_count": 177,
   "id": "277d6832",
   "metadata": {},
   "outputs": [],
   "source": [
    "b=np.random.uniform(5,1,size=(4,3))"
   ]
  },
  {
   "cell_type": "code",
   "execution_count": 180,
   "id": "7160ff4f",
   "metadata": {},
   "outputs": [
    {
     "data": {
      "text/plain": [
       "array([[5.29637649, 6.63083237, 9.34079085],\n",
       "       [7.68336195, 4.51576336, 2.54543771],\n",
       "       [7.90918687, 8.7084648 , 7.47280264],\n",
       "       [3.31019864, 2.1354549 , 4.53811846],\n",
       "       [4.2961862 , 1.96800227, 3.90124276],\n",
       "       [2.65668937, 4.37080813, 4.61847794],\n",
       "       [2.22308722, 3.55809173, 3.29189452]])"
      ]
     },
     "execution_count": 180,
     "metadata": {},
     "output_type": "execute_result"
    }
   ],
   "source": [
    "np.concatenate((a,b),axis=0)"
   ]
  },
  {
   "cell_type": "code",
   "execution_count": 183,
   "id": "84929bf3",
   "metadata": {},
   "outputs": [
    {
     "data": {
      "text/plain": [
       "array([[5.29637649, 6.63083237, 9.34079085],\n",
       "       [7.68336195, 4.51576336, 2.54543771],\n",
       "       [7.90918687, 8.7084648 , 7.47280264],\n",
       "       [3.31019864, 2.1354549 , 4.53811846],\n",
       "       [4.2961862 , 1.96800227, 3.90124276],\n",
       "       [2.65668937, 4.37080813, 4.61847794],\n",
       "       [2.22308722, 3.55809173, 3.29189452]])"
      ]
     },
     "execution_count": 183,
     "metadata": {},
     "output_type": "execute_result"
    }
   ],
   "source": [
    "np.vstack((a,b))"
   ]
  },
  {
   "cell_type": "code",
   "execution_count": 186,
   "id": "7373916c",
   "metadata": {},
   "outputs": [],
   "source": [
    "b=b.reshape((3,4))"
   ]
  },
  {
   "cell_type": "code",
   "execution_count": 188,
   "id": "d5a6e660",
   "metadata": {},
   "outputs": [
    {
     "data": {
      "text/plain": [
       "array([[5.29637649, 6.63083237, 9.34079085, 3.31019864, 2.1354549 ,\n",
       "        4.53811846, 4.2961862 ],\n",
       "       [7.68336195, 4.51576336, 2.54543771, 1.96800227, 3.90124276,\n",
       "        2.65668937, 4.37080813],\n",
       "       [7.90918687, 8.7084648 , 7.47280264, 4.61847794, 2.22308722,\n",
       "        3.55809173, 3.29189452]])"
      ]
     },
     "execution_count": 188,
     "metadata": {},
     "output_type": "execute_result"
    }
   ],
   "source": [
    "np.concatenate((a,b),axis=1)"
   ]
  },
  {
   "cell_type": "code",
   "execution_count": 189,
   "id": "55e511e3",
   "metadata": {},
   "outputs": [
    {
     "data": {
      "text/plain": [
       "array([[5.29637649, 6.63083237, 9.34079085, 3.31019864, 2.1354549 ,\n",
       "        4.53811846, 4.2961862 ],\n",
       "       [7.68336195, 4.51576336, 2.54543771, 1.96800227, 3.90124276,\n",
       "        2.65668937, 4.37080813],\n",
       "       [7.90918687, 8.7084648 , 7.47280264, 4.61847794, 2.22308722,\n",
       "        3.55809173, 3.29189452]])"
      ]
     },
     "execution_count": 189,
     "metadata": {},
     "output_type": "execute_result"
    }
   ],
   "source": [
    "np.hstack((a,b))"
   ]
  },
  {
   "cell_type": "code",
   "execution_count": 194,
   "id": "2f5e0617",
   "metadata": {},
   "outputs": [],
   "source": [
    "a=np.arange(10,20,2)"
   ]
  },
  {
   "cell_type": "code",
   "execution_count": 199,
   "id": "595263ff",
   "metadata": {},
   "outputs": [],
   "source": [
    "b=np.arange(10,20,3)"
   ]
  },
  {
   "cell_type": "code",
   "execution_count": 200,
   "id": "11e7f73a",
   "metadata": {},
   "outputs": [
    {
     "data": {
      "text/plain": [
       "array([10, 12, 14, 16, 18, 10, 13, 16, 19])"
      ]
     },
     "execution_count": 200,
     "metadata": {},
     "output_type": "execute_result"
    }
   ],
   "source": [
    "np.hstack((a,b))"
   ]
  },
  {
   "cell_type": "markdown",
   "id": "523dc421",
   "metadata": {},
   "source": [
    "# Splitting the ndarray into the multple nd arrays."
   ]
  },
  {
   "cell_type": "markdown",
   "id": "37c7549e",
   "metadata": {},
   "source": [
    "There are several methods available to split ndarray into multiple ndarray.\n",
    "1. split\n",
    "2. hsplit\n",
    "3. vsplit\n",
    "4. array_split\n"
   ]
  },
  {
   "cell_type": "code",
   "execution_count": 201,
   "id": "edeaa90d",
   "metadata": {},
   "outputs": [],
   "source": [
    "a=np.arange(1,11)"
   ]
  },
  {
   "cell_type": "code",
   "execution_count": 206,
   "id": "2a833894",
   "metadata": {},
   "outputs": [
    {
     "data": {
      "text/plain": [
       "[array([1, 2, 3, 4, 5]), array([ 6,  7,  8,  9, 10])]"
      ]
     },
     "execution_count": 206,
     "metadata": {},
     "output_type": "execute_result"
    }
   ],
   "source": [
    "np.split(a,2)"
   ]
  },
  {
   "cell_type": "code",
   "execution_count": 210,
   "id": "4528ec92",
   "metadata": {},
   "outputs": [
    {
     "data": {
      "text/plain": [
       "[array([1]), array([2, 3]), array([4, 5, 6, 7]), array([ 8,  9, 10])]"
      ]
     },
     "execution_count": 210,
     "metadata": {},
     "output_type": "execute_result"
    }
   ],
   "source": [
    "np.split(a,[1,3,7],axis=0)"
   ]
  },
  {
   "cell_type": "code",
   "execution_count": 211,
   "id": "63346835",
   "metadata": {},
   "outputs": [],
   "source": [
    "a=np.random.uniform(10,2,size=(6,5))"
   ]
  },
  {
   "cell_type": "code",
   "execution_count": 212,
   "id": "91ddb3f1",
   "metadata": {},
   "outputs": [
    {
     "data": {
      "text/plain": [
       "array([[7.06489267, 8.4864806 , 6.74702082, 3.38939734, 2.45792765],\n",
       "       [3.27455716, 9.72380613, 5.46088703, 3.56720007, 2.67341363],\n",
       "       [5.24306953, 7.47896795, 3.46898304, 2.52710398, 9.36294442],\n",
       "       [8.51165635, 4.75567318, 9.50159844, 9.52115584, 6.19229874],\n",
       "       [2.11532243, 2.94236331, 6.34240599, 8.18555794, 6.24858908],\n",
       "       [7.54857741, 2.4918638 , 6.76717438, 9.42486519, 6.08285205]])"
      ]
     },
     "execution_count": 212,
     "metadata": {},
     "output_type": "execute_result"
    }
   ],
   "source": [
    "a"
   ]
  },
  {
   "cell_type": "code",
   "execution_count": 216,
   "id": "78e9be9e",
   "metadata": {},
   "outputs": [
    {
     "data": {
      "text/plain": [
       "[array([[7.06489267, 8.4864806 , 6.74702082, 3.38939734, 2.45792765],\n",
       "        [3.27455716, 9.72380613, 5.46088703, 3.56720007, 2.67341363]]),\n",
       " array([[5.24306953, 7.47896795, 3.46898304, 2.52710398, 9.36294442],\n",
       "        [8.51165635, 4.75567318, 9.50159844, 9.52115584, 6.19229874]]),\n",
       " array([[2.11532243, 2.94236331, 6.34240599, 8.18555794, 6.24858908],\n",
       "        [7.54857741, 2.4918638 , 6.76717438, 9.42486519, 6.08285205]])]"
      ]
     },
     "execution_count": 216,
     "metadata": {},
     "output_type": "execute_result"
    }
   ],
   "source": [
    "np.split(a,3,axis=0)"
   ]
  },
  {
   "cell_type": "code",
   "execution_count": 217,
   "id": "dd7f4f8b",
   "metadata": {},
   "outputs": [
    {
     "data": {
      "text/plain": [
       "[array([[7.06489267, 8.4864806 , 6.74702082, 3.38939734, 2.45792765]]),\n",
       " array([[3.27455716, 9.72380613, 5.46088703, 3.56720007, 2.67341363],\n",
       "        [5.24306953, 7.47896795, 3.46898304, 2.52710398, 9.36294442]]),\n",
       " array([[8.51165635, 4.75567318, 9.50159844, 9.52115584, 6.19229874],\n",
       "        [2.11532243, 2.94236331, 6.34240599, 8.18555794, 6.24858908],\n",
       "        [7.54857741, 2.4918638 , 6.76717438, 9.42486519, 6.08285205]])]"
      ]
     },
     "execution_count": 217,
     "metadata": {},
     "output_type": "execute_result"
    }
   ],
   "source": [
    "np.split(a,[1,3],axis=0)"
   ]
  },
  {
   "cell_type": "code",
   "execution_count": 219,
   "id": "e3a0d37f",
   "metadata": {},
   "outputs": [],
   "source": [
    "a=np.resize(a,(5,6))"
   ]
  },
  {
   "cell_type": "code",
   "execution_count": 220,
   "id": "7726dcc2",
   "metadata": {},
   "outputs": [
    {
     "data": {
      "text/plain": [
       "[array([[7.06489267, 8.4864806 , 6.74702082],\n",
       "        [9.72380613, 5.46088703, 3.56720007],\n",
       "        [3.46898304, 2.52710398, 9.36294442],\n",
       "        [9.52115584, 6.19229874, 2.11532243],\n",
       "        [6.24858908, 7.54857741, 2.4918638 ]]),\n",
       " array([[3.38939734, 2.45792765, 3.27455716],\n",
       "        [2.67341363, 5.24306953, 7.47896795],\n",
       "        [8.51165635, 4.75567318, 9.50159844],\n",
       "        [2.94236331, 6.34240599, 8.18555794],\n",
       "        [6.76717438, 9.42486519, 6.08285205]])]"
      ]
     },
     "execution_count": 220,
     "metadata": {},
     "output_type": "execute_result"
    }
   ],
   "source": [
    "np.split(a,2,axis=1)"
   ]
  },
  {
   "cell_type": "code",
   "execution_count": 221,
   "id": "3f27c792",
   "metadata": {},
   "outputs": [
    {
     "data": {
      "text/plain": [
       "[array([[7.06489267, 8.4864806 ],\n",
       "        [9.72380613, 5.46088703],\n",
       "        [3.46898304, 2.52710398],\n",
       "        [9.52115584, 6.19229874],\n",
       "        [6.24858908, 7.54857741]]),\n",
       " array([[6.74702082, 3.38939734],\n",
       "        [3.56720007, 2.67341363],\n",
       "        [9.36294442, 8.51165635],\n",
       "        [2.11532243, 2.94236331],\n",
       "        [2.4918638 , 6.76717438]]),\n",
       " array([[2.45792765, 3.27455716],\n",
       "        [5.24306953, 7.47896795],\n",
       "        [4.75567318, 9.50159844],\n",
       "        [6.34240599, 8.18555794],\n",
       "        [9.42486519, 6.08285205]])]"
      ]
     },
     "execution_count": 221,
     "metadata": {},
     "output_type": "execute_result"
    }
   ],
   "source": [
    "np.split(a,[2,4],axis=1)"
   ]
  },
  {
   "cell_type": "code",
   "execution_count": 222,
   "id": "62ff9aea",
   "metadata": {},
   "outputs": [],
   "source": [
    "a=np.resize(a,(6,5))"
   ]
  },
  {
   "cell_type": "code",
   "execution_count": 223,
   "id": "f00ed288",
   "metadata": {},
   "outputs": [
    {
     "data": {
      "text/plain": [
       "(6, 5)"
      ]
     },
     "execution_count": 223,
     "metadata": {},
     "output_type": "execute_result"
    }
   ],
   "source": [
    "a.shape"
   ]
  },
  {
   "cell_type": "code",
   "execution_count": 226,
   "id": "c521fc59",
   "metadata": {},
   "outputs": [
    {
     "data": {
      "text/plain": [
       "[array([[7.06489267, 8.4864806 , 6.74702082, 3.38939734, 2.45792765]]),\n",
       " array([[3.27455716, 9.72380613, 5.46088703, 3.56720007, 2.67341363]]),\n",
       " array([[5.24306953, 7.47896795, 3.46898304, 2.52710398, 9.36294442]]),\n",
       " array([[8.51165635, 4.75567318, 9.50159844, 9.52115584, 6.19229874]]),\n",
       " array([[2.11532243, 2.94236331, 6.34240599, 8.18555794, 6.24858908]]),\n",
       " array([[7.54857741, 2.4918638 , 6.76717438, 9.42486519, 6.08285205]])]"
      ]
     },
     "execution_count": 226,
     "metadata": {},
     "output_type": "execute_result"
    }
   ],
   "source": [
    "np.vsplit(a,6)"
   ]
  },
  {
   "cell_type": "code",
   "execution_count": 227,
   "id": "8873aca0",
   "metadata": {},
   "outputs": [
    {
     "data": {
      "text/plain": [
       "[array([[7.06489267, 8.4864806 , 6.74702082, 3.38939734, 2.45792765],\n",
       "        [3.27455716, 9.72380613, 5.46088703, 3.56720007, 2.67341363]]),\n",
       " array([[5.24306953, 7.47896795, 3.46898304, 2.52710398, 9.36294442],\n",
       "        [8.51165635, 4.75567318, 9.50159844, 9.52115584, 6.19229874]]),\n",
       " array([[2.11532243, 2.94236331, 6.34240599, 8.18555794, 6.24858908],\n",
       "        [7.54857741, 2.4918638 , 6.76717438, 9.42486519, 6.08285205]])]"
      ]
     },
     "execution_count": 227,
     "metadata": {},
     "output_type": "execute_result"
    }
   ],
   "source": [
    "np.vsplit(a,[2,4])"
   ]
  },
  {
   "cell_type": "code",
   "execution_count": 228,
   "id": "6d276530",
   "metadata": {},
   "outputs": [],
   "source": [
    "a=np.resize(a,(5,6))"
   ]
  },
  {
   "cell_type": "code",
   "execution_count": 231,
   "id": "fb7c33dc",
   "metadata": {},
   "outputs": [
    {
     "data": {
      "text/plain": [
       "[array([[7.06489267],\n",
       "        [9.72380613],\n",
       "        [3.46898304],\n",
       "        [9.52115584],\n",
       "        [6.24858908]]),\n",
       " array([[8.4864806 , 6.74702082, 3.38939734],\n",
       "        [5.46088703, 3.56720007, 2.67341363],\n",
       "        [2.52710398, 9.36294442, 8.51165635],\n",
       "        [6.19229874, 2.11532243, 2.94236331],\n",
       "        [7.54857741, 2.4918638 , 6.76717438]]),\n",
       " array([[2.45792765, 3.27455716],\n",
       "        [5.24306953, 7.47896795],\n",
       "        [4.75567318, 9.50159844],\n",
       "        [6.34240599, 8.18555794],\n",
       "        [9.42486519, 6.08285205]])]"
      ]
     },
     "execution_count": 231,
     "metadata": {},
     "output_type": "execute_result"
    }
   ],
   "source": [
    "np.hsplit(a,[1,4])"
   ]
  },
  {
   "cell_type": "code",
   "execution_count": 232,
   "id": "5b0e7469",
   "metadata": {},
   "outputs": [],
   "source": [
    "a=np.arange(1,11)"
   ]
  },
  {
   "cell_type": "code",
   "execution_count": 233,
   "id": "5111ba7f",
   "metadata": {},
   "outputs": [
    {
     "data": {
      "text/plain": [
       "5.5"
      ]
     },
     "execution_count": 233,
     "metadata": {},
     "output_type": "execute_result"
    }
   ],
   "source": [
    "a.mean()"
   ]
  },
  {
   "cell_type": "code",
   "execution_count": 234,
   "id": "cdf99454",
   "metadata": {},
   "outputs": [
    {
     "data": {
      "text/plain": [
       "1"
      ]
     },
     "execution_count": 234,
     "metadata": {},
     "output_type": "execute_result"
    }
   ],
   "source": [
    "a.min()"
   ]
  },
  {
   "cell_type": "code",
   "execution_count": 235,
   "id": "75300cde",
   "metadata": {},
   "outputs": [
    {
     "data": {
      "text/plain": [
       "10"
      ]
     },
     "execution_count": 235,
     "metadata": {},
     "output_type": "execute_result"
    }
   ],
   "source": [
    "a.max()"
   ]
  },
  {
   "cell_type": "code",
   "execution_count": 238,
   "id": "54cbbff2",
   "metadata": {},
   "outputs": [
    {
     "data": {
      "text/plain": [
       "5.5"
      ]
     },
     "execution_count": 238,
     "metadata": {},
     "output_type": "execute_result"
    }
   ],
   "source": [
    "np.median(a)"
   ]
  },
  {
   "cell_type": "code",
   "execution_count": 240,
   "id": "14da1f56",
   "metadata": {},
   "outputs": [
    {
     "data": {
      "text/plain": [
       "8.25"
      ]
     },
     "execution_count": 240,
     "metadata": {},
     "output_type": "execute_result"
    }
   ],
   "source": [
    "a.var()"
   ]
  },
  {
   "cell_type": "code",
   "execution_count": 241,
   "id": "14222b71",
   "metadata": {},
   "outputs": [
    {
     "data": {
      "text/plain": [
       "2.8722813232690143"
      ]
     },
     "execution_count": 241,
     "metadata": {},
     "output_type": "execute_result"
    }
   ],
   "source": [
    "a.std()"
   ]
  },
  {
   "cell_type": "code",
   "execution_count": 242,
   "id": "910b717c",
   "metadata": {},
   "outputs": [
    {
     "data": {
      "text/plain": [
       "2.8722813232690143"
      ]
     },
     "execution_count": 242,
     "metadata": {},
     "output_type": "execute_result"
    }
   ],
   "source": [
    "np.std(a)"
   ]
  },
  {
   "cell_type": "code",
   "execution_count": 243,
   "id": "01edc20b",
   "metadata": {},
   "outputs": [
    {
     "data": {
      "text/plain": [
       "8.25"
      ]
     },
     "execution_count": 243,
     "metadata": {},
     "output_type": "execute_result"
    }
   ],
   "source": [
    "np.var(a)"
   ]
  },
  {
   "cell_type": "code",
   "execution_count": 244,
   "id": "39953fee",
   "metadata": {},
   "outputs": [
    {
     "data": {
      "text/plain": [
       "10"
      ]
     },
     "execution_count": 244,
     "metadata": {},
     "output_type": "execute_result"
    }
   ],
   "source": [
    "np.max(a)"
   ]
  },
  {
   "cell_type": "code",
   "execution_count": 245,
   "id": "5145712a",
   "metadata": {},
   "outputs": [
    {
     "data": {
      "text/plain": [
       "5.5"
      ]
     },
     "execution_count": 245,
     "metadata": {},
     "output_type": "execute_result"
    }
   ],
   "source": [
    "np.mean(a)"
   ]
  },
  {
   "cell_type": "code",
   "execution_count": 246,
   "id": "27af6de1",
   "metadata": {},
   "outputs": [
    {
     "data": {
      "text/plain": [
       "55"
      ]
     },
     "execution_count": 246,
     "metadata": {},
     "output_type": "execute_result"
    }
   ],
   "source": [
    "np.sum(a)"
   ]
  },
  {
   "cell_type": "code",
   "execution_count": 247,
   "id": "05fafa03",
   "metadata": {},
   "outputs": [
    {
     "data": {
      "text/plain": [
       "55"
      ]
     },
     "execution_count": 247,
     "metadata": {},
     "output_type": "execute_result"
    }
   ],
   "source": [
    "a.sum()"
   ]
  },
  {
   "cell_type": "code",
   "execution_count": null,
   "id": "f8c9eb99",
   "metadata": {},
   "outputs": [],
   "source": []
  }
 ],
 "metadata": {
  "kernelspec": {
   "display_name": "Python 3 (ipykernel)",
   "language": "python",
   "name": "python3"
  },
  "language_info": {
   "codemirror_mode": {
    "name": "ipython",
    "version": 3
   },
   "file_extension": ".py",
   "mimetype": "text/x-python",
   "name": "python",
   "nbconvert_exporter": "python",
   "pygments_lexer": "ipython3",
   "version": "3.9.13"
  }
 },
 "nbformat": 4,
 "nbformat_minor": 5
}
